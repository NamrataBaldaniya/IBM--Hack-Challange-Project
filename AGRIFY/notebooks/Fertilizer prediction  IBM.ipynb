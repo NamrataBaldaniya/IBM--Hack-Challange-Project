{
 "cells": [
  {
   "cell_type": "code",
   "execution_count": 1,
   "metadata": {},
   "outputs": [],
   "source": [
    "from __future__ import print_function\n",
    "from joblib import dump,load\n",
    "import pandas as pd\n",
    "import numpy as np\n",
    "import matplotlib.pyplot as plt\n",
    "import seaborn as sns\n",
    "from sklearn import tree\n",
    "from sklearn.model_selection import GridSearchCV\n",
    "from sklearn import metrics\n",
    "from sklearn.metrics import classification_report\n",
    "from sklearn.metrics import mean_squared_error, r2_score,mean_absolute_error\n",
    "from math import sqrt\n",
    "from sklearn import model_selection\n",
    "import math\n",
    "from sklearn.model_selection import cross_val_score\n",
    "import warnings\n",
    "warnings.filterwarnings('ignore')"
   ]
  },
  {
   "cell_type": "code",
   "execution_count": 2,
   "metadata": {},
   "outputs": [],
   "source": [
    "df = pd.read_csv('../data Processed/fertilizer_recommendation.csv')"
   ]
  },
  {
   "cell_type": "code",
   "execution_count": 3,
   "metadata": {},
   "outputs": [
    {
     "data": {
      "text/plain": [
       "Index(['Ca', 'Mg', 'K', 'S', 'N', 'Lime', 'C', 'P', 'Moisture', 'class'], dtype='object')"
      ]
     },
     "execution_count": 3,
     "metadata": {},
     "output_type": "execute_result"
    }
   ],
   "source": [
    "df.columns"
   ]
  },
  {
   "cell_type": "code",
   "execution_count": 4,
   "metadata": {},
   "outputs": [
    {
     "data": {
      "text/html": [
       "<div>\n",
       "<style scoped>\n",
       "    .dataframe tbody tr th:only-of-type {\n",
       "        vertical-align: middle;\n",
       "    }\n",
       "\n",
       "    .dataframe tbody tr th {\n",
       "        vertical-align: top;\n",
       "    }\n",
       "\n",
       "    .dataframe thead th {\n",
       "        text-align: right;\n",
       "    }\n",
       "</style>\n",
       "<table border=\"1\" class=\"dataframe\">\n",
       "  <thead>\n",
       "    <tr style=\"text-align: right;\">\n",
       "      <th></th>\n",
       "      <th>Ca</th>\n",
       "      <th>Mg</th>\n",
       "      <th>K</th>\n",
       "      <th>S</th>\n",
       "      <th>N</th>\n",
       "      <th>Lime</th>\n",
       "      <th>C</th>\n",
       "      <th>P</th>\n",
       "      <th>Moisture</th>\n",
       "      <th>class</th>\n",
       "    </tr>\n",
       "  </thead>\n",
       "  <tbody>\n",
       "    <tr>\n",
       "      <th>0</th>\n",
       "      <td>0.7</td>\n",
       "      <td>0.6</td>\n",
       "      <td>0.8</td>\n",
       "      <td>0.8</td>\n",
       "      <td>0.7</td>\n",
       "      <td>0.8</td>\n",
       "      <td>0.3</td>\n",
       "      <td>0.1</td>\n",
       "      <td>0.9</td>\n",
       "      <td>4</td>\n",
       "    </tr>\n",
       "    <tr>\n",
       "      <th>1</th>\n",
       "      <td>0.5</td>\n",
       "      <td>0.5</td>\n",
       "      <td>0.4</td>\n",
       "      <td>0.3</td>\n",
       "      <td>0.5</td>\n",
       "      <td>0.7</td>\n",
       "      <td>0.5</td>\n",
       "      <td>0.7</td>\n",
       "      <td>0.8</td>\n",
       "      <td>2</td>\n",
       "    </tr>\n",
       "    <tr>\n",
       "      <th>2</th>\n",
       "      <td>0.6</td>\n",
       "      <td>0.8</td>\n",
       "      <td>0.1</td>\n",
       "      <td>0.3</td>\n",
       "      <td>0.7</td>\n",
       "      <td>0.5</td>\n",
       "      <td>0.5</td>\n",
       "      <td>0.6</td>\n",
       "      <td>0.6</td>\n",
       "      <td>2</td>\n",
       "    </tr>\n",
       "    <tr>\n",
       "      <th>3</th>\n",
       "      <td>0.7</td>\n",
       "      <td>0.7</td>\n",
       "      <td>0.7</td>\n",
       "      <td>0.5</td>\n",
       "      <td>0.8</td>\n",
       "      <td>0.7</td>\n",
       "      <td>0.4</td>\n",
       "      <td>0.1</td>\n",
       "      <td>0.7</td>\n",
       "      <td>4</td>\n",
       "    </tr>\n",
       "    <tr>\n",
       "      <th>4</th>\n",
       "      <td>0.8</td>\n",
       "      <td>0.8</td>\n",
       "      <td>0.2</td>\n",
       "      <td>0.3</td>\n",
       "      <td>0.5</td>\n",
       "      <td>0.5</td>\n",
       "      <td>0.7</td>\n",
       "      <td>0.8</td>\n",
       "      <td>0.5</td>\n",
       "      <td>2</td>\n",
       "    </tr>\n",
       "  </tbody>\n",
       "</table>\n",
       "</div>"
      ],
      "text/plain": [
       "    Ca   Mg    K    S    N  Lime    C    P  Moisture  class\n",
       "0  0.7  0.6  0.8  0.8  0.7   0.8  0.3  0.1       0.9      4\n",
       "1  0.5  0.5  0.4  0.3  0.5   0.7  0.5  0.7       0.8      2\n",
       "2  0.6  0.8  0.1  0.3  0.7   0.5  0.5  0.6       0.6      2\n",
       "3  0.7  0.7  0.7  0.5  0.8   0.7  0.4  0.1       0.7      4\n",
       "4  0.8  0.8  0.2  0.3  0.5   0.5  0.7  0.8       0.5      2"
      ]
     },
     "execution_count": 4,
     "metadata": {},
     "output_type": "execute_result"
    }
   ],
   "source": [
    "df.head()"
   ]
  },
  {
   "cell_type": "code",
   "execution_count": 5,
   "metadata": {},
   "outputs": [
    {
     "data": {
      "text/plain": [
       "Ca          float64\n",
       "Mg          float64\n",
       "K           float64\n",
       "S           float64\n",
       "N           float64\n",
       "Lime        float64\n",
       "C           float64\n",
       "P           float64\n",
       "Moisture    float64\n",
       "class         int64\n",
       "dtype: object"
      ]
     },
     "execution_count": 5,
     "metadata": {},
     "output_type": "execute_result"
    }
   ],
   "source": [
    "df.dtypes"
   ]
  },
  {
   "cell_type": "code",
   "execution_count": 6,
   "metadata": {},
   "outputs": [
    {
     "name": "stdout",
     "output_type": "stream",
     "text": [
      "<class 'pandas.core.frame.DataFrame'>\n",
      "RangeIndex: 1599 entries, 0 to 1598\n",
      "Data columns (total 10 columns):\n",
      " #   Column    Non-Null Count  Dtype  \n",
      "---  ------    --------------  -----  \n",
      " 0   Ca        1599 non-null   float64\n",
      " 1   Mg        1599 non-null   float64\n",
      " 2   K         1599 non-null   float64\n",
      " 3   S         1599 non-null   float64\n",
      " 4   N         1599 non-null   float64\n",
      " 5   Lime      1599 non-null   float64\n",
      " 6   C         1599 non-null   float64\n",
      " 7   P         1599 non-null   float64\n",
      " 8   Moisture  1599 non-null   float64\n",
      " 9   class     1599 non-null   int64  \n",
      "dtypes: float64(9), int64(1)\n",
      "memory usage: 125.0 KB\n"
     ]
    }
   ],
   "source": [
    "df.info()"
   ]
  },
  {
   "cell_type": "code",
   "execution_count": 7,
   "metadata": {},
   "outputs": [
    {
     "data": {
      "text/plain": [
       "(1599, 10)"
      ]
     },
     "execution_count": 7,
     "metadata": {},
     "output_type": "execute_result"
    }
   ],
   "source": [
    "df.shape"
   ]
  },
  {
   "cell_type": "code",
   "execution_count": 8,
   "metadata": {},
   "outputs": [
    {
     "data": {
      "text/plain": [
       "15990"
      ]
     },
     "execution_count": 8,
     "metadata": {},
     "output_type": "execute_result"
    }
   ],
   "source": [
    "df.size"
   ]
  },
  {
   "cell_type": "code",
   "execution_count": 9,
   "metadata": {},
   "outputs": [
    {
     "data": {
      "text/plain": [
       "Ca          0\n",
       "Mg          0\n",
       "K           0\n",
       "S           0\n",
       "N           0\n",
       "Lime        0\n",
       "C           0\n",
       "P           0\n",
       "Moisture    0\n",
       "class       0\n",
       "dtype: int64"
      ]
     },
     "execution_count": 9,
     "metadata": {},
     "output_type": "execute_result"
    }
   ],
   "source": [
    "df.isnull().sum()"
   ]
  },
  {
   "cell_type": "code",
   "execution_count": 10,
   "metadata": {},
   "outputs": [
    {
     "data": {
      "text/html": [
       "<div>\n",
       "<style scoped>\n",
       "    .dataframe tbody tr th:only-of-type {\n",
       "        vertical-align: middle;\n",
       "    }\n",
       "\n",
       "    .dataframe tbody tr th {\n",
       "        vertical-align: top;\n",
       "    }\n",
       "\n",
       "    .dataframe thead th {\n",
       "        text-align: right;\n",
       "    }\n",
       "</style>\n",
       "<table border=\"1\" class=\"dataframe\">\n",
       "  <thead>\n",
       "    <tr style=\"text-align: right;\">\n",
       "      <th></th>\n",
       "      <th>Ca</th>\n",
       "      <th>Mg</th>\n",
       "      <th>K</th>\n",
       "      <th>S</th>\n",
       "      <th>N</th>\n",
       "      <th>Lime</th>\n",
       "      <th>C</th>\n",
       "      <th>P</th>\n",
       "      <th>Moisture</th>\n",
       "      <th>class</th>\n",
       "    </tr>\n",
       "  </thead>\n",
       "  <tbody>\n",
       "    <tr>\n",
       "      <th>count</th>\n",
       "      <td>1599.000000</td>\n",
       "      <td>1599.000000</td>\n",
       "      <td>1599.000000</td>\n",
       "      <td>1599.000000</td>\n",
       "      <td>1599.000000</td>\n",
       "      <td>1599.000000</td>\n",
       "      <td>1599.000000</td>\n",
       "      <td>1599.000000</td>\n",
       "      <td>1599.000000</td>\n",
       "      <td>1599.000000</td>\n",
       "    </tr>\n",
       "    <tr>\n",
       "      <th>mean</th>\n",
       "      <td>0.552033</td>\n",
       "      <td>0.552158</td>\n",
       "      <td>0.554284</td>\n",
       "      <td>0.551032</td>\n",
       "      <td>0.551782</td>\n",
       "      <td>0.548030</td>\n",
       "      <td>0.549656</td>\n",
       "      <td>0.550594</td>\n",
       "      <td>0.702939</td>\n",
       "      <td>2.500938</td>\n",
       "    </tr>\n",
       "    <tr>\n",
       "      <th>std</th>\n",
       "      <td>0.207752</td>\n",
       "      <td>0.208562</td>\n",
       "      <td>0.209547</td>\n",
       "      <td>0.204817</td>\n",
       "      <td>0.209015</td>\n",
       "      <td>0.205967</td>\n",
       "      <td>0.205063</td>\n",
       "      <td>0.203223</td>\n",
       "      <td>0.141236</td>\n",
       "      <td>1.118104</td>\n",
       "    </tr>\n",
       "    <tr>\n",
       "      <th>min</th>\n",
       "      <td>0.100000</td>\n",
       "      <td>0.100000</td>\n",
       "      <td>0.100000</td>\n",
       "      <td>0.100000</td>\n",
       "      <td>0.100000</td>\n",
       "      <td>0.100000</td>\n",
       "      <td>0.100000</td>\n",
       "      <td>0.100000</td>\n",
       "      <td>0.500000</td>\n",
       "      <td>1.000000</td>\n",
       "    </tr>\n",
       "    <tr>\n",
       "      <th>25%</th>\n",
       "      <td>0.500000</td>\n",
       "      <td>0.500000</td>\n",
       "      <td>0.450000</td>\n",
       "      <td>0.450000</td>\n",
       "      <td>0.450000</td>\n",
       "      <td>0.450000</td>\n",
       "      <td>0.450000</td>\n",
       "      <td>0.450000</td>\n",
       "      <td>0.600000</td>\n",
       "      <td>2.000000</td>\n",
       "    </tr>\n",
       "    <tr>\n",
       "      <th>50%</th>\n",
       "      <td>0.600000</td>\n",
       "      <td>0.600000</td>\n",
       "      <td>0.600000</td>\n",
       "      <td>0.600000</td>\n",
       "      <td>0.600000</td>\n",
       "      <td>0.600000</td>\n",
       "      <td>0.600000</td>\n",
       "      <td>0.600000</td>\n",
       "      <td>0.700000</td>\n",
       "      <td>3.000000</td>\n",
       "    </tr>\n",
       "    <tr>\n",
       "      <th>75%</th>\n",
       "      <td>0.700000</td>\n",
       "      <td>0.700000</td>\n",
       "      <td>0.700000</td>\n",
       "      <td>0.700000</td>\n",
       "      <td>0.700000</td>\n",
       "      <td>0.700000</td>\n",
       "      <td>0.700000</td>\n",
       "      <td>0.700000</td>\n",
       "      <td>0.800000</td>\n",
       "      <td>3.500000</td>\n",
       "    </tr>\n",
       "    <tr>\n",
       "      <th>max</th>\n",
       "      <td>0.800000</td>\n",
       "      <td>0.800000</td>\n",
       "      <td>0.800000</td>\n",
       "      <td>0.800000</td>\n",
       "      <td>0.800000</td>\n",
       "      <td>0.800000</td>\n",
       "      <td>0.800000</td>\n",
       "      <td>0.800000</td>\n",
       "      <td>0.900000</td>\n",
       "      <td>4.000000</td>\n",
       "    </tr>\n",
       "  </tbody>\n",
       "</table>\n",
       "</div>"
      ],
      "text/plain": [
       "                Ca           Mg            K            S            N  \\\n",
       "count  1599.000000  1599.000000  1599.000000  1599.000000  1599.000000   \n",
       "mean      0.552033     0.552158     0.554284     0.551032     0.551782   \n",
       "std       0.207752     0.208562     0.209547     0.204817     0.209015   \n",
       "min       0.100000     0.100000     0.100000     0.100000     0.100000   \n",
       "25%       0.500000     0.500000     0.450000     0.450000     0.450000   \n",
       "50%       0.600000     0.600000     0.600000     0.600000     0.600000   \n",
       "75%       0.700000     0.700000     0.700000     0.700000     0.700000   \n",
       "max       0.800000     0.800000     0.800000     0.800000     0.800000   \n",
       "\n",
       "              Lime            C            P     Moisture        class  \n",
       "count  1599.000000  1599.000000  1599.000000  1599.000000  1599.000000  \n",
       "mean      0.548030     0.549656     0.550594     0.702939     2.500938  \n",
       "std       0.205967     0.205063     0.203223     0.141236     1.118104  \n",
       "min       0.100000     0.100000     0.100000     0.500000     1.000000  \n",
       "25%       0.450000     0.450000     0.450000     0.600000     2.000000  \n",
       "50%       0.600000     0.600000     0.600000     0.700000     3.000000  \n",
       "75%       0.700000     0.700000     0.700000     0.800000     3.500000  \n",
       "max       0.800000     0.800000     0.800000     0.900000     4.000000  "
      ]
     },
     "execution_count": 10,
     "metadata": {},
     "output_type": "execute_result"
    }
   ],
   "source": [
    "df.describe()"
   ]
  },
  {
   "cell_type": "code",
   "execution_count": 11,
   "metadata": {},
   "outputs": [
    {
     "name": "stdout",
     "output_type": "stream",
     "text": [
      "total Unique Values in Fertilizer: 4\n",
      "\n",
      "Unique Values in Fertilizer: [4 2 3 1]\n",
      "\n"
     ]
    }
   ],
   "source": [
    "print(\"total Unique Values in Fertilizer:\",df['class'].nunique())\n",
    "print()\n",
    "print(\"Unique Values in Fertilizer:\",df['class'].unique())\n",
    "print()"
   ]
  },
  {
   "cell_type": "code",
   "execution_count": 12,
   "metadata": {},
   "outputs": [
    {
     "data": {
      "text/plain": [
       "<AxesSubplot:>"
      ]
     },
     "execution_count": 12,
     "metadata": {},
     "output_type": "execute_result"
    },
    {
     "data": {
      "image/png": "[encoded data removed]",
      "text/plain": [
       "<Figure size 720x720 with 2 Axes>"
      ]
     },
     "metadata": {
      "needs_background": "light"
     },
     "output_type": "display_data"
    }
   ],
   "source": [
    "# Correlation\n",
    "# sns.heatmap(df.corr(),annot=True)\n",
    "fig, ax = plt.subplots(figsize=(10,10))        \n",
    "sns.heatmap(df.corr(), annot=True, linewidths=.5, ax=ax)"
   ]
  },
  {
   "cell_type": "markdown",
   "metadata": {},
   "source": [
    "# Cleaning"
   ]
  },
  {
   "cell_type": "code",
   "execution_count": 13,
   "metadata": {},
   "outputs": [],
   "source": [
    "df = df.rename(columns={\"Ca\":\"Calcium\" , \"Mg\":\"Magnesium\" , \"K\":\"Potassium\" , \"S\":\"Sulfur\" , \"N\":\"Nitrogen\" , \"C\":\"Carbon\" , \n",
    "                       \"P\":\"Phosphorus\" , \"class\":\"Fertilizer\"})"
   ]
  },
  {
   "cell_type": "code",
   "execution_count": 14,
   "metadata": {},
   "outputs": [],
   "source": [
    "for i in range(df.shape[0]):\n",
    "    if df['Fertilizer'].iloc[i] == 1:\n",
    "        df['Fertilizer'].iloc[i] = 'kieserite'\n",
    "    elif df['Fertilizer'].iloc[i] == 2:\n",
    "        df['Fertilizer'].iloc[i] = 'potassium sulphate(SOP)'\n",
    "    elif df['Fertilizer'].iloc[i] == 3:\n",
    "        df['Fertilizer'].iloc[i] = 'ammonium nitrate lime(ANL)'\n",
    "    elif df['Fertilizer'].iloc[i] == 4:\n",
    "        df['Fertilizer'].iloc[i] = 'single superphosphate(SSP)'"
   ]
  },
  {
   "cell_type": "code",
   "execution_count": 15,
   "metadata": {},
   "outputs": [
    {
     "name": "stdout",
     "output_type": "stream",
     "text": [
      "total Unique Values in Fertilizer: 4\n",
      "\n",
      "Unique Values in Fertilizer: ['single superphosphate(SSP)' 'potassium sulphate(SOP)'\n",
      " 'ammonium nitrate lime(ANL)' 'kieserite']\n",
      "\n"
     ]
    }
   ],
   "source": [
    "print(\"total Unique Values in Fertilizer:\",df['Fertilizer'].nunique())\n",
    "print()\n",
    "print(\"Unique Values in Fertilizer:\",df['Fertilizer'].unique())\n",
    "print()"
   ]
  },
  {
   "cell_type": "code",
   "execution_count": 16,
   "metadata": {},
   "outputs": [],
   "source": [
    "numerics = ['int16', 'int32', 'int64', 'float16', 'float32', 'float64']\n",
    "df_n = df.select_dtypes(include=numerics)       #  numeric dataframe\n",
    "objects = ['O']\n",
    "df_o = df.select_dtypes(include=objects)        #  objective dataframe"
   ]
  },
  {
   "cell_type": "code",
   "execution_count": 17,
   "metadata": {},
   "outputs": [
    {
     "data": {
      "text/plain": [
       "Index(['Calcium', 'Magnesium', 'Potassium', 'Sulfur', 'Nitrogen', 'Lime',\n",
       "       'Carbon', 'Phosphorus', 'Moisture'],\n",
       "      dtype='object')"
      ]
     },
     "execution_count": 17,
     "metadata": {},
     "output_type": "execute_result"
    }
   ],
   "source": [
    "df_n.columns         #  numeric dataframe"
   ]
  },
  {
   "cell_type": "code",
   "execution_count": 18,
   "metadata": {},
   "outputs": [
    {
     "data": {
      "text/plain": [
       "Index(['Fertilizer'], dtype='object')"
      ]
     },
     "execution_count": 18,
     "metadata": {},
     "output_type": "execute_result"
    }
   ],
   "source": [
    "df_o.columns        #  objective dataframe"
   ]
  },
  {
   "cell_type": "code",
   "execution_count": 19,
   "metadata": {},
   "outputs": [],
   "source": [
    "df.to_csv('../data Processed/clean_fertilizer_prediction.csv')"
   ]
  },
  {
   "cell_type": "code",
   "execution_count": 20,
   "metadata": {},
   "outputs": [],
   "source": [
    "df1 = pd.read_csv('../data Processed/clean_fertilizer_prediction.csv')"
   ]
  },
  {
   "cell_type": "code",
   "execution_count": 21,
   "metadata": {},
   "outputs": [],
   "source": [
    "df1 = df1.drop('Unnamed: 0',axis = 1)"
   ]
  },
  {
   "cell_type": "code",
   "execution_count": 22,
   "metadata": {},
   "outputs": [
    {
     "data": {
      "text/html": [
       "<div>\n",
       "<style scoped>\n",
       "    .dataframe tbody tr th:only-of-type {\n",
       "        vertical-align: middle;\n",
       "    }\n",
       "\n",
       "    .dataframe tbody tr th {\n",
       "        vertical-align: top;\n",
       "    }\n",
       "\n",
       "    .dataframe thead th {\n",
       "        text-align: right;\n",
       "    }\n",
       "</style>\n",
       "<table border=\"1\" class=\"dataframe\">\n",
       "  <thead>\n",
       "    <tr style=\"text-align: right;\">\n",
       "      <th></th>\n",
       "      <th>Calcium</th>\n",
       "      <th>Magnesium</th>\n",
       "      <th>Potassium</th>\n",
       "      <th>Sulfur</th>\n",
       "      <th>Nitrogen</th>\n",
       "      <th>Lime</th>\n",
       "      <th>Carbon</th>\n",
       "      <th>Phosphorus</th>\n",
       "      <th>Moisture</th>\n",
       "      <th>Fertilizer</th>\n",
       "    </tr>\n",
       "  </thead>\n",
       "  <tbody>\n",
       "    <tr>\n",
       "      <th>0</th>\n",
       "      <td>0.7</td>\n",
       "      <td>0.6</td>\n",
       "      <td>0.8</td>\n",
       "      <td>0.8</td>\n",
       "      <td>0.7</td>\n",
       "      <td>0.8</td>\n",
       "      <td>0.3</td>\n",
       "      <td>0.1</td>\n",
       "      <td>0.9</td>\n",
       "      <td>single superphosphate(SSP)</td>\n",
       "    </tr>\n",
       "    <tr>\n",
       "      <th>1</th>\n",
       "      <td>0.5</td>\n",
       "      <td>0.5</td>\n",
       "      <td>0.4</td>\n",
       "      <td>0.3</td>\n",
       "      <td>0.5</td>\n",
       "      <td>0.7</td>\n",
       "      <td>0.5</td>\n",
       "      <td>0.7</td>\n",
       "      <td>0.8</td>\n",
       "      <td>potassium sulphate(SOP)</td>\n",
       "    </tr>\n",
       "    <tr>\n",
       "      <th>2</th>\n",
       "      <td>0.6</td>\n",
       "      <td>0.8</td>\n",
       "      <td>0.1</td>\n",
       "      <td>0.3</td>\n",
       "      <td>0.7</td>\n",
       "      <td>0.5</td>\n",
       "      <td>0.5</td>\n",
       "      <td>0.6</td>\n",
       "      <td>0.6</td>\n",
       "      <td>potassium sulphate(SOP)</td>\n",
       "    </tr>\n",
       "    <tr>\n",
       "      <th>3</th>\n",
       "      <td>0.7</td>\n",
       "      <td>0.7</td>\n",
       "      <td>0.7</td>\n",
       "      <td>0.5</td>\n",
       "      <td>0.8</td>\n",
       "      <td>0.7</td>\n",
       "      <td>0.4</td>\n",
       "      <td>0.1</td>\n",
       "      <td>0.7</td>\n",
       "      <td>single superphosphate(SSP)</td>\n",
       "    </tr>\n",
       "    <tr>\n",
       "      <th>4</th>\n",
       "      <td>0.8</td>\n",
       "      <td>0.8</td>\n",
       "      <td>0.2</td>\n",
       "      <td>0.3</td>\n",
       "      <td>0.5</td>\n",
       "      <td>0.5</td>\n",
       "      <td>0.7</td>\n",
       "      <td>0.8</td>\n",
       "      <td>0.5</td>\n",
       "      <td>potassium sulphate(SOP)</td>\n",
       "    </tr>\n",
       "  </tbody>\n",
       "</table>\n",
       "</div>"
      ],
      "text/plain": [
       "   Calcium  Magnesium  Potassium  Sulfur  Nitrogen  Lime  Carbon  Phosphorus  \\\n",
       "0      0.7        0.6        0.8     0.8       0.7   0.8     0.3         0.1   \n",
       "1      0.5        0.5        0.4     0.3       0.5   0.7     0.5         0.7   \n",
       "2      0.6        0.8        0.1     0.3       0.7   0.5     0.5         0.6   \n",
       "3      0.7        0.7        0.7     0.5       0.8   0.7     0.4         0.1   \n",
       "4      0.8        0.8        0.2     0.3       0.5   0.5     0.7         0.8   \n",
       "\n",
       "   Moisture                  Fertilizer  \n",
       "0       0.9  single superphosphate(SSP)  \n",
       "1       0.8     potassium sulphate(SOP)  \n",
       "2       0.6     potassium sulphate(SOP)  \n",
       "3       0.7  single superphosphate(SSP)  \n",
       "4       0.5     potassium sulphate(SOP)  "
      ]
     },
     "execution_count": 22,
     "metadata": {},
     "output_type": "execute_result"
    }
   ],
   "source": [
    "df1.head()"
   ]
  },
  {
   "cell_type": "code",
   "execution_count": 23,
   "metadata": {},
   "outputs": [
    {
     "data": {
      "text/plain": [
       "<AxesSubplot:>"
      ]
     },
     "execution_count": 23,
     "metadata": {},
     "output_type": "execute_result"
    },
    {
     "data": {
      "image/png": "[encoded data removed]",
      "text/plain": [
       "<Figure size 720x720 with 2 Axes>"
      ]
     },
     "metadata": {
      "needs_background": "light"
     },
     "output_type": "display_data"
    }
   ],
   "source": [
    "# Correlation\n",
    "# sns.heatmap(df.corr(),annot=True)\n",
    "fig, ax = plt.subplots(figsize=(10,10))        \n",
    "sns.heatmap(df1.corr(), annot=True, linewidths=.5, ax=ax)"
   ]
  },
  {
   "cell_type": "markdown",
   "metadata": {},
   "source": [
    "# Data preprocessing"
   ]
  },
  {
   "cell_type": "code",
   "execution_count": 24,
   "metadata": {},
   "outputs": [],
   "source": [
    "# Initialzing empty lists to append all model's name and corresponding name\n",
    "accuracy_model = []\n",
    "model = []"
   ]
  },
  {
   "cell_type": "code",
   "execution_count": 25,
   "metadata": {},
   "outputs": [
    {
     "name": "stdout",
     "output_type": "stream",
     "text": [
      "      Calcium  Magnesium  Potassium  Sulfur  Nitrogen  Lime  Carbon  \\\n",
      "0         0.7        0.6        0.8     0.8       0.7   0.8     0.3   \n",
      "1         0.5        0.5        0.4     0.3       0.5   0.7     0.5   \n",
      "2         0.6        0.8        0.1     0.3       0.7   0.5     0.5   \n",
      "3         0.7        0.7        0.7     0.5       0.8   0.7     0.4   \n",
      "4         0.8        0.8        0.2     0.3       0.5   0.5     0.7   \n",
      "...       ...        ...        ...     ...       ...   ...     ...   \n",
      "1594      0.6        0.7        0.5     0.7       0.6   0.6     0.3   \n",
      "1595      0.8        0.5        0.6     0.5       0.3   0.1     0.7   \n",
      "1596      0.7        0.8        0.3     0.1       0.7   0.6     0.8   \n",
      "1597      0.6        0.5        0.8     0.5       0.6   0.8     0.3   \n",
      "1598      0.4        0.4        0.8     0.6       0.6   0.8     0.8   \n",
      "\n",
      "      Phosphorus  Moisture  \n",
      "0            0.1       0.9  \n",
      "1            0.7       0.8  \n",
      "2            0.6       0.6  \n",
      "3            0.1       0.7  \n",
      "4            0.8       0.5  \n",
      "...          ...       ...  \n",
      "1594         0.3       0.9  \n",
      "1595         0.5       0.5  \n",
      "1596         0.5       0.7  \n",
      "1597         0.3       0.7  \n",
      "1598         0.7       0.8  \n",
      "\n",
      "[1599 rows x 9 columns]\n",
      "0       single superphosphate(SSP)\n",
      "1          potassium sulphate(SOP)\n",
      "2          potassium sulphate(SOP)\n",
      "3       single superphosphate(SSP)\n",
      "4          potassium sulphate(SOP)\n",
      "                   ...            \n",
      "1594    single superphosphate(SSP)\n",
      "1595    ammonium nitrate lime(ANL)\n",
      "1596       potassium sulphate(SOP)\n",
      "1597    single superphosphate(SSP)\n",
      "1598                     kieserite\n",
      "Name: Fertilizer, Length: 1599, dtype: object\n"
     ]
    }
   ],
   "source": [
    "features = df1[['Calcium', 'Magnesium', 'Potassium', 'Sulfur', 'Nitrogen', 'Lime','Carbon', 'Phosphorus', 'Moisture']]\n",
    "target = df1[\"Fertilizer\"]\n",
    "print(features)\n",
    "print(target)"
   ]
  },
  {
   "cell_type": "code",
   "execution_count": 26,
   "metadata": {},
   "outputs": [],
   "source": [
    "# Splitting into train and test data\n",
    "\n",
    "from sklearn.model_selection import train_test_split\n",
    "x_train,x_test,y_train,y_test=train_test_split(features,target,test_size = 0.2,random_state =0)"
   ]
  },
  {
   "cell_type": "markdown",
   "metadata": {},
   "source": [
    "# Rendom Forest"
   ]
  },
  {
   "cell_type": "code",
   "execution_count": 43,
   "metadata": {},
   "outputs": [],
   "source": [
    "#to import and initiate RandomForest function\n",
    "from sklearn.ensemble import RandomForestClassifier\n",
    "rf_model=RandomForestClassifier(random_state=0,n_estimators=500,max_depth = 15,min_samples_leaf = 1,min_samples_split = 2)"
   ]
  },
  {
   "cell_type": "code",
   "execution_count": 44,
   "metadata": {},
   "outputs": [
    {
     "data": {
      "text/plain": [
       "RandomForestClassifier(max_depth=15, n_estimators=500, random_state=0)"
      ]
     },
     "execution_count": 44,
     "metadata": {},
     "output_type": "execute_result"
    }
   ],
   "source": [
    "rf_model.fit(x_train, y_train)"
   ]
  },
  {
   "cell_type": "code",
   "execution_count": 45,
   "metadata": {},
   "outputs": [],
   "source": [
    "#predicting values over test dataset\n",
    "pred_rf= rf_model.predict(x_test)"
   ]
  },
  {
   "cell_type": "code",
   "execution_count": 46,
   "metadata": {},
   "outputs": [
    {
     "data": {
      "text/plain": [
       "array([[86,  0,  0,  0],\n",
       "       [ 0, 83,  0,  0],\n",
       "       [ 0,  0, 77,  0],\n",
       "       [ 0,  0,  0, 74]], dtype=int64)"
      ]
     },
     "execution_count": 46,
     "metadata": {},
     "output_type": "execute_result"
    }
   ],
   "source": [
    "#import confusion maatrix\n",
    "from sklearn.metrics import confusion_matrix\n",
    "#implement of confusion matrix\n",
    "rf_cm = confusion_matrix(pred_rf , y_test)\n",
    "rf_cm"
   ]
  },
  {
   "cell_type": "code",
   "execution_count": 47,
   "metadata": {},
   "outputs": [],
   "source": [
    "# plt.figure(figsize=(10,7))\n",
    "# sns.heatmap(rf_cm,annot=True)\n",
    "# plt.xlabel('Predicted')\n",
    "# plt.ylabel('Truth')"
   ]
  },
  {
   "cell_type": "code",
   "execution_count": 48,
   "metadata": {},
   "outputs": [
    {
     "name": "stdout",
     "output_type": "stream",
     "text": [
      "Random Forest's Accuracy is:  100.0\n"
     ]
    }
   ],
   "source": [
    "#calculate the accuracy of the model\n",
    "x = metrics.accuracy_score(y_test, pred_rf)\n",
    "accuracy_model.append(x)\n",
    "model.append('Random Forest')\n",
    "print(\"Random Forest's Accuracy is: \", x*100)"
   ]
  },
  {
   "cell_type": "code",
   "execution_count": 49,
   "metadata": {},
   "outputs": [
    {
     "name": "stdout",
     "output_type": "stream",
     "text": [
      "                            precision    recall  f1-score   support\n",
      "\n",
      "ammonium nitrate lime(ANL)       1.00      1.00      1.00        86\n",
      "                 kieserite       1.00      1.00      1.00        83\n",
      "   potassium sulphate(SOP)       1.00      1.00      1.00        77\n",
      "single superphosphate(SSP)       1.00      1.00      1.00        74\n",
      "\n",
      "                  accuracy                           1.00       320\n",
      "                 macro avg       1.00      1.00      1.00       320\n",
      "              weighted avg       1.00      1.00      1.00       320\n",
      "\n"
     ]
    }
   ],
   "source": [
    "print(classification_report(y_test,pred_rf))"
   ]
  },
  {
   "cell_type": "code",
   "execution_count": 50,
   "metadata": {},
   "outputs": [
    {
     "data": {
      "text/plain": [
       "array([1., 1., 1., 1., 1.])"
      ]
     },
     "execution_count": 50,
     "metadata": {},
     "output_type": "execute_result"
    }
   ],
   "source": [
    "# Cross validation score (Random Forest)\n",
    "from sklearn.model_selection import cross_val_score\n",
    "score = cross_val_score(rf_model,features,target,cv=5)\n",
    "score"
   ]
  },
  {
   "cell_type": "code",
   "execution_count": 51,
   "metadata": {},
   "outputs": [],
   "source": [
    "import pickle\n",
    "# Dump the trained Naive Bayes classifier with Pickle\n",
    "RF_pkl_filename = '../models/FertRandomForest.pkl'\n",
    "# Open the file to save as pkl file\n",
    "RF_Model_pkl = open(RF_pkl_filename, 'wb')\n",
    "pickle.dump(rf_model, RF_Model_pkl)\n",
    "# Close the pickle instances\n",
    "RF_Model_pkl.close()"
   ]
  },
  {
   "cell_type": "markdown",
   "metadata": {},
   "source": [
    "# prediction"
   ]
  },
  {
   "cell_type": "code",
   "execution_count": 86,
   "metadata": {},
   "outputs": [
    {
     "name": "stdout",
     "output_type": "stream",
     "text": [
      "['single superphosphate(SSP)']\n"
     ]
    }
   ],
   "source": [
    "data = np.array([[0.7,0.6,0.8, 0.8, 0.7, 0.8, 0.3, 0.1, 0.3]])\n",
    "prediction = rf_model.predict(data)\n",
    "print(prediction)"
   ]
  },
  {
   "cell_type": "code",
   "execution_count": 87,
   "metadata": {},
   "outputs": [
    {
     "name": "stdout",
     "output_type": "stream",
     "text": [
      "['single superphosphate(SSP)']\n"
     ]
    }
   ],
   "source": [
    "data = np.array([[0.9,0.9,0.9, 0.9, 0.9, 0.9, 0.1, 0.2, 0.9]])\n",
    "prediction = rf_model.predict(data)\n",
    "print(prediction)"
   ]
  }
 ],
 "metadata": {
  "kernelspec": {
   "display_name": "Python 3",
   "language": "python",
   "name": "python3"
  },
  "language_info": {
   "codemirror_mode": {
    "name": "ipython",
    "version": 3
   },
   "file_extension": ".py",
   "mimetype": "text/x-python",
   "name": "python",
   "nbconvert_exporter": "python",
   "pygments_lexer": "ipython3",
   "version": "3.8.5"
  }
 },
 "nbformat": 4,
 "nbformat_minor": 4
}
